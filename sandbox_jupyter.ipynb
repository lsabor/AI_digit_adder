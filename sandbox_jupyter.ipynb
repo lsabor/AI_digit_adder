{
 "cells": [
  {
   "cell_type": "markdown",
   "metadata": {},
   "source": [
    "Premise: train a neural net to add n-bit integers\n",
    "\n",
    "input data in the form:\n",
    "X = [[1,0,...,1,0],\n",
    "     [1,0,...,0,1]]\n",
    "X.shape = (2,n)\n",
    "outpud data:\n",
    "Y = X[0] + x[1] in binary as a list with size (n+1)\n",
    "\n",
    "\n"
   ]
  },
  {
   "cell_type": "code",
   "execution_count": 64,
   "metadata": {},
   "outputs": [],
   "source": [
    "from fastai import *\n",
    "from fastai.data.all import *\n",
    "import torch"
   ]
  },
  {
   "cell_type": "code",
   "execution_count": 239,
   "metadata": {},
   "outputs": [],
   "source": [
    "# data generation\n",
    "\n",
    "def binary(x, bits):\n",
    "    \"\"\"takes a tensor of ints and returns a tensor of shape = (*x.shape, bits)\n",
    "    that represents x in binary bits\n",
    "    e.g.:\n",
    "    x = [3,4]\n",
    "    binary(x,bits=3) --> \n",
    "        [[0, 1, 1],  # 3 in binary\n",
    "         [1, 0, 0]], # 4 in binary\"\"\"\n",
    "    mask = 2**torch.arange(bits-1, -1, -1).to(x.device, x.dtype)\n",
    "    return x.unsqueeze(-1).bitwise_and(mask).ne(0).byte()\n",
    "\n",
    "def generate_data(samples, bits = 4):\n",
    "    \"\"\"generates `samples` number of samples of \n",
    "    2 binary numbers as X and their sum as Y\n",
    "    X.shape = (samples, 2, bits)\n",
    "    Y.shape = (samples, bits+1)\"\"\"\n",
    "    X = torch.randint(0,2**bits, (samples,2))\n",
    "    Y = X.sum(1)\n",
    "    return (binary(X,bits), binary(Y,bits+1))\n",
    "\n",
    "\n",
    "\n",
    "\n"
   ]
  },
  {
   "cell_type": "code",
   "execution_count": 319,
   "metadata": {},
   "outputs": [],
   "source": [
    "def generate_data(samples, bits = 4):\n",
    "    return torch.randint(0,2, (samples, 2, bits))"
   ]
  },
  {
   "cell_type": "code",
   "execution_count": 327,
   "metadata": {},
   "outputs": [
    {
     "name": "stdout",
     "output_type": "stream",
     "text": [
      "(array([[0, 0, 1, 1],\n",
      "       [1, 0, 0, 1]], dtype=int64), 12)\n",
      "(array([[0, 0, 0, 1],\n",
      "       [0, 1, 1, 0]], dtype=int64), 7)\n",
      "(array([[0, 0, 1, 0],\n",
      "       [0, 0, 0, 0]], dtype=int64), 2)\n",
      "(array([[0, 0, 0, 0],\n",
      "       [0, 0, 1, 0]], dtype=int64), 2)\n"
     ]
    }
   ],
   "source": [
    "def vec_bin_array(arr, m):\n",
    "    \"\"\"\n",
    "    Arguments: \n",
    "    arr: Numpy array of positive integers\n",
    "    m: Number of bits of each integer to retain\n",
    "\n",
    "    Returns a copy of arr with every element replaced with a bit vector.\n",
    "    Bits encoded as int8's.\n",
    "    \"\"\"\n",
    "    to_str_func = np.vectorize(lambda x: np.binary_repr(x).zfill(m))\n",
    "    strs = to_str_func(arr)\n",
    "    ret = np.zeros(list(arr.shape) + [m], dtype=np.int8)\n",
    "    for bit_ix in range(0, m):\n",
    "        fetch_bit_func = np.vectorize(lambda x: x[bit_ix] == '1')\n",
    "        ret[...,bit_ix] = fetch_bit_func(strs).astype(\"int8\")\n",
    "\n",
    "    return ret \n",
    "\n",
    "def get_y(x):\n",
    "    x = x.dot(1 << np.arange(x.shape[-1] - 1, -1, -1)).sum()\n",
    "    return x\n",
    "\n",
    "\n",
    "db = DataBlock(\n",
    "    get_items = generate_data,\n",
    "    splitter = RandomSplitter(),\n",
    "    get_y = get_y,\n",
    ")\n",
    "ds = db.datasets(5)\n",
    "for sample in ds.train:\n",
    "    print(sample)"
   ]
  },
  {
   "cell_type": "code",
   "execution_count": 330,
   "metadata": {},
   "outputs": [
    {
     "ename": "AttributeError",
     "evalue": "train",
     "output_type": "error",
     "traceback": [
      "\u001b[1;31m---------------------------------------------------------------------------\u001b[0m",
      "\u001b[1;31mAttributeError\u001b[0m                            Traceback (most recent call last)",
      "Cell \u001b[1;32mIn [330], line 10\u001b[0m\n\u001b[0;32m      6\u001b[0m         \u001b[39mreturn\u001b[39;00m torch\u001b[39m.\u001b[39mrandint(\u001b[39m0\u001b[39m,\u001b[39m2\u001b[39m, (\u001b[39m2\u001b[39m, \u001b[39mself\u001b[39m\u001b[39m.\u001b[39mbits))\n\u001b[0;32m      9\u001b[0m dl \u001b[39m=\u001b[39m RandDL(bs\u001b[39m=\u001b[39m\u001b[39m4\u001b[39m, drop_last\u001b[39m=\u001b[39m\u001b[39mTrue\u001b[39;00m)\n\u001b[1;32m---> 10\u001b[0m dl\u001b[39m.\u001b[39;49mtrain\n",
      "File \u001b[1;32mc:\\Users\\lukes\\.virtualenvs\\AI_digit_adder-TCT4vGlB\\lib\\site-packages\\fastcore\\basics.py:497\u001b[0m, in \u001b[0;36mGetAttr.__getattr__\u001b[1;34m(self, k)\u001b[0m\n\u001b[0;32m    495\u001b[0m     attr \u001b[39m=\u001b[39m \u001b[39mgetattr\u001b[39m(\u001b[39mself\u001b[39m,\u001b[39mself\u001b[39m\u001b[39m.\u001b[39m_default,\u001b[39mNone\u001b[39;00m)\n\u001b[0;32m    496\u001b[0m     \u001b[39mif\u001b[39;00m attr \u001b[39mis\u001b[39;00m \u001b[39mnot\u001b[39;00m \u001b[39mNone\u001b[39;00m: \u001b[39mreturn\u001b[39;00m \u001b[39mgetattr\u001b[39m(attr,k)\n\u001b[1;32m--> 497\u001b[0m \u001b[39mraise\u001b[39;00m \u001b[39mAttributeError\u001b[39;00m(k)\n",
      "\u001b[1;31mAttributeError\u001b[0m: train"
     ]
    }
   ],
   "source": [
    "class RandDL(DataLoader):\n",
    "    bits = 4\n",
    "\n",
    "    def create_item(self, s):\n",
    "        if random.random() > 0.99: stop()\n",
    "        return torch.randint(0,2, (2, self.bits))\n",
    "\n",
    "\n",
    "dl = RandDL(bs=4, drop_last=True)\n",
    "        "
   ]
  }
 ],
 "metadata": {
  "kernelspec": {
   "display_name": "Python 3.10.4 ('AI_digit_adder-TCT4vGlB')",
   "language": "python",
   "name": "python3"
  },
  "language_info": {
   "codemirror_mode": {
    "name": "ipython",
    "version": 3
   },
   "file_extension": ".py",
   "mimetype": "text/x-python",
   "name": "python",
   "nbconvert_exporter": "python",
   "pygments_lexer": "ipython3",
   "version": "3.10.4"
  },
  "orig_nbformat": 4,
  "vscode": {
   "interpreter": {
    "hash": "d3da1832d712816e619de24612d1de2b2e4d861986e7bc6f8382380a4d06b724"
   }
  }
 },
 "nbformat": 4,
 "nbformat_minor": 2
}
